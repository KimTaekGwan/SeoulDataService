{
 "cells": [
  {
   "cell_type": "code",
   "execution_count": 1,
   "id": "9bea8126-6f9d-4301-a072-45662a2fe817",
   "metadata": {
    "tags": []
   },
   "outputs": [],
   "source": [
    "import pandas as pd"
   ]
  },
  {
   "cell_type": "code",
   "execution_count": 11,
   "id": "6e287db7-4570-42e9-bfd4-0ebe7191a4c2",
   "metadata": {
    "collapsed": true,
    "jupyter": {
     "outputs_hidden": true
    },
    "tags": []
   },
   "outputs": [
    {
     "name": "stdout",
     "output_type": "stream",
     "text": [
      "Collecting sentence-transformers\n",
      "  Using cached sentence-transformers-2.2.2.tar.gz (85 kB)\n",
      "  Preparing metadata (setup.py) ... \u001b[?25ldone\n",
      "\u001b[?25hCollecting transformers<5.0.0,>=4.6.0\n",
      "  Using cached transformers-4.28.1-py3-none-any.whl (7.0 MB)\n",
      "Requirement already satisfied: tqdm in /Users/goodyoung/Desktop/대학교/gytest/lib/python3.11/site-packages (from sentence-transformers) (4.65.0)\n",
      "Collecting torch>=1.6.0\n",
      "  Downloading torch-2.0.0-cp311-none-macosx_10_9_x86_64.whl (139.5 MB)\n",
      "\u001b[2K     \u001b[90m━━━━━━━━━━━━━━━━━━━━━━━━━━━━━━━━━━━━━━━\u001b[0m \u001b[32m139.5/139.5 MB\u001b[0m \u001b[31m4.3 MB/s\u001b[0m eta \u001b[36m0:00:00\u001b[0m00:01\u001b[0m00:01\u001b[0m\n",
      "\u001b[?25hCollecting torchvision\n",
      "  Downloading torchvision-0.15.1-cp311-cp311-macosx_10_9_x86_64.whl (1.5 MB)\n",
      "\u001b[2K     \u001b[90m━━━━━━━━━━━━━━━━━━━━━━━━━━━━━━━━━━━━━━━━\u001b[0m \u001b[32m1.5/1.5 MB\u001b[0m \u001b[31m10.2 MB/s\u001b[0m eta \u001b[36m0:00:00\u001b[0ma \u001b[36m0:00:01\u001b[0m\n",
      "\u001b[?25hRequirement already satisfied: numpy in /Users/goodyoung/Desktop/대학교/gytest/lib/python3.11/site-packages (from sentence-transformers) (1.24.2)\n",
      "Collecting scikit-learn\n",
      "  Downloading scikit_learn-1.2.2-cp311-cp311-macosx_10_9_x86_64.whl (9.0 MB)\n",
      "\u001b[2K     \u001b[90m━━━━━━━━━━━━━━━━━━━━━━━━━━━━━━━━━━━━━━━━\u001b[0m \u001b[32m9.0/9.0 MB\u001b[0m \u001b[31m9.1 MB/s\u001b[0m eta \u001b[36m0:00:00\u001b[0m00:01\u001b[0m00:01\u001b[0mm\n",
      "\u001b[?25hCollecting scipy\n",
      "  Downloading scipy-1.10.1-cp311-cp311-macosx_10_9_x86_64.whl (35.0 MB)\n",
      "\u001b[2K     \u001b[90m━━━━━━━━━━━━━━━━━━━━━━━━━━━━━━━━━━━━━━━━\u001b[0m \u001b[32m35.0/35.0 MB\u001b[0m \u001b[31m8.3 MB/s\u001b[0m eta \u001b[36m0:00:00\u001b[0m00:01\u001b[0m00:01\u001b[0mm\n",
      "\u001b[?25hCollecting nltk\n",
      "  Downloading nltk-3.8.1-py3-none-any.whl (1.5 MB)\n",
      "\u001b[2K     \u001b[90m━━━━━━━━━━━━━━━━━━━━━━━━━━━━━━━━━━━━━━━━\u001b[0m \u001b[32m1.5/1.5 MB\u001b[0m \u001b[31m10.7 MB/s\u001b[0m eta \u001b[36m0:00:00\u001b[0ma \u001b[36m0:00:01\u001b[0m\n",
      "\u001b[?25hCollecting sentencepiece\n",
      "  Downloading sentencepiece-0.1.98-cp311-cp311-macosx_10_9_x86_64.whl (1.2 MB)\n",
      "\u001b[2K     \u001b[90m━━━━━━━━━━━━━━━━━━━━━━━━━━━━━━━━━━━━━━━━\u001b[0m \u001b[32m1.2/1.2 MB\u001b[0m \u001b[31m10.2 MB/s\u001b[0m eta \u001b[36m0:00:00\u001b[0m00:01\u001b[0m00:01\u001b[0m\n",
      "\u001b[?25hCollecting huggingface-hub>=0.4.0\n",
      "  Downloading huggingface_hub-0.14.1-py3-none-any.whl (224 kB)\n",
      "\u001b[2K     \u001b[90m━━━━━━━━━━━━━━━━━━━━━━━━━━━━━━━━━━━━━━━\u001b[0m \u001b[32m224.5/224.5 kB\u001b[0m \u001b[31m8.2 MB/s\u001b[0m eta \u001b[36m0:00:00\u001b[0m\n",
      "\u001b[?25hCollecting filelock\n",
      "  Downloading filelock-3.12.0-py3-none-any.whl (10 kB)\n",
      "Collecting fsspec\n",
      "  Downloading fsspec-2023.4.0-py3-none-any.whl (153 kB)\n",
      "\u001b[2K     \u001b[90m━━━━━━━━━━━━━━━━━━━━━━━━━━━━━━━━━━━━━━━\u001b[0m \u001b[32m154.0/154.0 kB\u001b[0m \u001b[31m9.9 MB/s\u001b[0m eta \u001b[36m0:00:00\u001b[0m\n",
      "\u001b[?25hRequirement already satisfied: requests in /Users/goodyoung/Desktop/대학교/gytest/lib/python3.11/site-packages (from huggingface-hub>=0.4.0->sentence-transformers) (2.28.2)\n",
      "Requirement already satisfied: pyyaml>=5.1 in /Users/goodyoung/Desktop/대학교/gytest/lib/python3.11/site-packages (from huggingface-hub>=0.4.0->sentence-transformers) (6.0)\n",
      "Collecting typing-extensions>=3.7.4.3\n",
      "  Downloading typing_extensions-4.5.0-py3-none-any.whl (27 kB)\n",
      "Requirement already satisfied: packaging>=20.9 in /Users/goodyoung/Desktop/대학교/gytest/lib/python3.11/site-packages (from huggingface-hub>=0.4.0->sentence-transformers) (23.0)\n",
      "Collecting sympy\n",
      "  Downloading sympy-1.11.1-py3-none-any.whl (6.5 MB)\n",
      "\u001b[2K     \u001b[90m━━━━━━━━━━━━━━━━━━━━━━━━━━━━━━━━━━━━━━━━\u001b[0m \u001b[32m6.5/6.5 MB\u001b[0m \u001b[31m10.6 MB/s\u001b[0m eta \u001b[36m0:00:00\u001b[0m00:01\u001b[0m00:01\u001b[0m\n",
      "\u001b[?25hCollecting networkx\n",
      "  Downloading networkx-3.1-py3-none-any.whl (2.1 MB)\n",
      "\u001b[2K     \u001b[90m━━━━━━━━━━━━━━━━━━━━━━━━━━━━━━━━━━━━━━━━\u001b[0m \u001b[32m2.1/2.1 MB\u001b[0m \u001b[31m10.1 MB/s\u001b[0m eta \u001b[36m0:00:00\u001b[0m00:01\u001b[0m00:01\u001b[0m\n",
      "\u001b[?25hRequirement already satisfied: jinja2 in /Users/goodyoung/Desktop/대학교/gytest/lib/python3.11/site-packages (from torch>=1.6.0->sentence-transformers) (3.1.2)\n",
      "Collecting regex!=2019.12.17\n",
      "  Downloading regex-2023.3.23-cp311-cp311-macosx_10_9_x86_64.whl (294 kB)\n",
      "\u001b[2K     \u001b[90m━━━━━━━━━━━━━━━━━━━━━━━━━━━━━━━━━━━━━━━\u001b[0m \u001b[32m294.5/294.5 kB\u001b[0m \u001b[31m9.1 MB/s\u001b[0m eta \u001b[36m0:00:00\u001b[0m\n",
      "\u001b[?25hCollecting tokenizers!=0.11.3,<0.14,>=0.11.1\n",
      "  Downloading tokenizers-0.13.3-cp311-cp311-macosx_10_11_universal2.whl (4.0 MB)\n",
      "\u001b[2K     \u001b[90m━━━━━━━━━━━━━━━━━━━━━━━━━━━━━━━━━━━━━━━━\u001b[0m \u001b[32m4.0/4.0 MB\u001b[0m \u001b[31m10.5 MB/s\u001b[0m eta \u001b[36m0:00:00\u001b[0m00:01\u001b[0m00:01\u001b[0m\n",
      "\u001b[?25hCollecting click\n",
      "  Downloading click-8.1.3-py3-none-any.whl (96 kB)\n",
      "\u001b[2K     \u001b[90m━━━━━━━━━━━━━━━━━━━━━━━━━━━━━━━━━━━━━━━━\u001b[0m \u001b[32m96.6/96.6 kB\u001b[0m \u001b[31m6.1 MB/s\u001b[0m eta \u001b[36m0:00:00\u001b[0m\n",
      "\u001b[?25hCollecting joblib\n",
      "  Downloading joblib-1.2.0-py3-none-any.whl (297 kB)\n",
      "\u001b[2K     \u001b[90m━━━━━━━━━━━━━━━━━━━━━━━━━━━━━━━━━━━━━━━\u001b[0m \u001b[32m298.0/298.0 kB\u001b[0m \u001b[31m9.3 MB/s\u001b[0m eta \u001b[36m0:00:00\u001b[0m\n",
      "\u001b[?25hCollecting threadpoolctl>=2.0.0\n",
      "  Downloading threadpoolctl-3.1.0-py3-none-any.whl (14 kB)\n",
      "Requirement already satisfied: pillow!=8.3.*,>=5.3.0 in /Users/goodyoung/Desktop/대학교/gytest/lib/python3.11/site-packages (from torchvision->sentence-transformers) (9.4.0)\n",
      "Requirement already satisfied: MarkupSafe>=2.0 in /Users/goodyoung/Desktop/대학교/gytest/lib/python3.11/site-packages (from jinja2->torch>=1.6.0->sentence-transformers) (2.1.2)\n",
      "Requirement already satisfied: charset-normalizer<4,>=2 in /Users/goodyoung/Desktop/대학교/gytest/lib/python3.11/site-packages (from requests->huggingface-hub>=0.4.0->sentence-transformers) (3.1.0)\n",
      "Requirement already satisfied: idna<4,>=2.5 in /Users/goodyoung/Desktop/대학교/gytest/lib/python3.11/site-packages (from requests->huggingface-hub>=0.4.0->sentence-transformers) (3.4)\n",
      "Requirement already satisfied: urllib3<1.27,>=1.21.1 in /Users/goodyoung/Desktop/대학교/gytest/lib/python3.11/site-packages (from requests->huggingface-hub>=0.4.0->sentence-transformers) (1.26.14)\n",
      "Requirement already satisfied: certifi>=2017.4.17 in /Users/goodyoung/Desktop/대학교/gytest/lib/python3.11/site-packages (from requests->huggingface-hub>=0.4.0->sentence-transformers) (2022.12.7)\n",
      "Collecting mpmath>=0.19\n",
      "  Downloading mpmath-1.3.0-py3-none-any.whl (536 kB)\n",
      "\u001b[2K     \u001b[90m━━━━━━━━━━━━━━━━━━━━━━━━━━━━━━━━━━━━━━━\u001b[0m \u001b[32m536.2/536.2 kB\u001b[0m \u001b[31m9.0 MB/s\u001b[0m eta \u001b[36m0:00:00\u001b[0ma \u001b[36m0:00:01\u001b[0m\n",
      "\u001b[?25hInstalling collected packages: tokenizers, sentencepiece, mpmath, typing-extensions, threadpoolctl, sympy, scipy, regex, networkx, joblib, fsspec, filelock, click, torch, scikit-learn, nltk, huggingface-hub, transformers, torchvision, sentence-transformers\n",
      "\u001b[33m  DEPRECATION: sentence-transformers is being installed using the legacy 'setup.py install' method, because it does not have a 'pyproject.toml' and the 'wheel' package is not installed. pip 23.1 will enforce this behaviour change. A possible replacement is to enable the '--use-pep517' option. Discussion can be found at https://github.com/pypa/pip/issues/8559\u001b[0m\u001b[33m\n",
      "\u001b[0m  Running setup.py install for sentence-transformers ... \u001b[?25ldone\n",
      "\u001b[?25hSuccessfully installed click-8.1.3 filelock-3.12.0 fsspec-2023.4.0 huggingface-hub-0.14.1 joblib-1.2.0 mpmath-1.3.0 networkx-3.1 nltk-3.8.1 regex-2023.3.23 scikit-learn-1.2.2 scipy-1.10.1 sentence-transformers-2.2.2 sentencepiece-0.1.98 sympy-1.11.1 threadpoolctl-3.1.0 tokenizers-0.13.3 torch-2.0.0 torchvision-0.15.1 transformers-4.28.1 typing-extensions-4.5.0\n",
      "\n",
      "\u001b[1m[\u001b[0m\u001b[34;49mnotice\u001b[0m\u001b[1;39;49m]\u001b[0m\u001b[39;49m A new release of pip is available: \u001b[0m\u001b[31;49m23.0.1\u001b[0m\u001b[39;49m -> \u001b[0m\u001b[32;49m23.1.2\u001b[0m\n",
      "\u001b[1m[\u001b[0m\u001b[34;49mnotice\u001b[0m\u001b[1;39;49m]\u001b[0m\u001b[39;49m To update, run: \u001b[0m\u001b[32;49mpip install --upgrade pip\u001b[0m\n"
     ]
    }
   ],
   "source": [
    "# !pip3 install -U sentence-transformers"
   ]
  },
  {
   "cell_type": "code",
   "execution_count": 20,
   "id": "debcdcbc-2ab5-43f0-aec4-f7ce1ee0c52d",
   "metadata": {
    "tags": []
   },
   "outputs": [
    {
     "name": "stdout",
     "output_type": "stream",
     "text": [
      "Collecting faiss-cpu\n",
      "  Using cached faiss_cpu-1.7.4-cp311-cp311-macosx_10_9_x86_64.whl (6.5 MB)\n",
      "Installing collected packages: faiss-cpu\n",
      "Successfully installed faiss-cpu-1.7.4\n"
     ]
    }
   ],
   "source": [
    "# !pip3 install faiss-cpu"
   ]
  },
  {
   "cell_type": "code",
   "execution_count": 21,
   "id": "ce92dc09-dfab-435c-899a-ac1b5a1579a9",
   "metadata": {
    "tags": []
   },
   "outputs": [
    {
     "name": "stderr",
     "output_type": "stream",
     "text": [
      "/Users/goodyoung/Desktop/대학교/gytest/lib/python3.11/site-packages/tqdm/auto.py:21: TqdmWarning: IProgress not found. Please update jupyter and ipywidgets. See https://ipywidgets.readthedocs.io/en/stable/user_install.html\n",
      "  from .autonotebook import tqdm as notebook_tqdm\n"
     ]
    }
   ],
   "source": [
    "import numpy as np\n",
    "import os\n",
    "import pandas as pd\n",
    "import urllib.request\n",
    "import faiss\n",
    "import time\n",
    "from sentence_transformers import SentenceTransformer"
   ]
  },
  {
   "cell_type": "code",
   "execution_count": null,
   "id": "8d321c17-4cfc-42a4-8003-19ee47dd9c8f",
   "metadata": {},
   "outputs": [],
   "source": []
  },
  {
   "cell_type": "code",
   "execution_count": null,
   "id": "043a7278-1df5-4350-921d-8c184dc97156",
   "metadata": {},
   "outputs": [],
   "source": []
  },
  {
   "cell_type": "code",
   "execution_count": null,
   "id": "018aac58-7a74-498d-9a92-7fbacf0591ba",
   "metadata": {},
   "outputs": [],
   "source": []
  },
  {
   "cell_type": "code",
   "execution_count": null,
   "id": "95373d15-fc1d-412d-831b-3ad0a4955da4",
   "metadata": {},
   "outputs": [],
   "source": []
  },
  {
   "cell_type": "code",
   "execution_count": null,
   "id": "5f8e0768-0543-47bc-9516-3f33f2b7dbd1",
   "metadata": {},
   "outputs": [],
   "source": []
  },
  {
   "cell_type": "code",
   "execution_count": null,
   "id": "deaf89ea-235b-49f4-aa43-2c7d489cc788",
   "metadata": {},
   "outputs": [],
   "source": []
  },
  {
   "cell_type": "code",
   "execution_count": null,
   "id": "1c1221d4-1429-419d-b52c-f73e63e8f3b5",
   "metadata": {},
   "outputs": [],
   "source": []
  },
  {
   "cell_type": "code",
   "execution_count": 3,
   "id": "e0fea100-25c0-4abc-bca2-7c470ad33617",
   "metadata": {
    "tags": []
   },
   "outputs": [],
   "source": [
    "df = pd.read_csv(\"서울시 공공데이터 최종.csv\")"
   ]
  },
  {
   "cell_type": "code",
   "execution_count": 8,
   "id": "82d0fe85-c5f7-4410-88fb-d694a4748c5e",
   "metadata": {
    "tags": []
   },
   "outputs": [
    {
     "data": {
      "text/plain": [
       "0                          서울시 강동구 명일2동 주민센터 새소식 정보\n",
       "1                          서울시 강동구 암사2동 주민센터 새소식 정보\n",
       "2                            서울시 강동구 길동 주민센터 새소식 정보\n",
       "3                              서울시 성동구 통신판매업 인허가 정보\n",
       "4                            서울시 성북구 건물위생관리업 인허가 정보\n",
       "                           ...                     \n",
       "7393         서울시 연평균최고기온 2005년 위치정보 (좌표계: ITRF2000)\n",
       "7394         서울시 연평균최저기온 2008년 위치정보 (좌표계: ITRF2000)\n",
       "7395    서울시 자치구별 TOE 환산량 2008년 위치정보 (좌표계: ITRF2000)\n",
       "7396     서울시 행정동별 전력 사용량 2008년 위치정보 (좌표계: ITRF2000)\n",
       "7397                          서울시 사회적기업 지원 기관 목록 정보\n",
       "Name: 서비스명, Length: 7398, dtype: object"
      ]
     },
     "execution_count": 8,
     "metadata": {},
     "output_type": "execute_result"
    }
   ],
   "source": [
    "df['서비스명']"
   ]
  },
  {
   "cell_type": "code",
   "execution_count": 6,
   "id": "8993f247-0f6a-4269-a7e7-53e742d4fcfa",
   "metadata": {
    "collapsed": true,
    "jupyter": {
     "outputs_hidden": true
    },
    "tags": []
   },
   "outputs": [
    {
     "data": {
      "text/html": [
       "<div>\n",
       "<style scoped>\n",
       "    .dataframe tbody tr th:only-of-type {\n",
       "        vertical-align: middle;\n",
       "    }\n",
       "\n",
       "    .dataframe tbody tr th {\n",
       "        vertical-align: top;\n",
       "    }\n",
       "\n",
       "    .dataframe thead th {\n",
       "        text-align: right;\n",
       "    }\n",
       "</style>\n",
       "<table border=\"1\" class=\"dataframe\">\n",
       "  <thead>\n",
       "    <tr style=\"text-align: right;\">\n",
       "      <th></th>\n",
       "      <th>서비스ID</th>\n",
       "      <th>서비스명</th>\n",
       "      <th>대분류</th>\n",
       "      <th>중분류</th>\n",
       "      <th>소분류</th>\n",
       "      <th>제공기관</th>\n",
       "      <th>제공부서명</th>\n",
       "      <th>시스템명</th>\n",
       "      <th>담당자명</th>\n",
       "      <th>담당자연락처</th>\n",
       "      <th>갱신주기</th>\n",
       "      <th>최종갱신일자</th>\n",
       "      <th>제공사이트</th>\n",
       "      <th>제공형식</th>\n",
       "      <th>서비스설명</th>\n",
       "      <th>urls</th>\n",
       "    </tr>\n",
       "  </thead>\n",
       "  <tbody>\n",
       "    <tr>\n",
       "      <th>0</th>\n",
       "      <td>OA-12615</td>\n",
       "      <td>서울시 강동구 명일2동 주민센터 새소식 정보</td>\n",
       "      <td>공공데이터</td>\n",
       "      <td>자치구 및 자치구산하</td>\n",
       "      <td>일반행정</td>\n",
       "      <td>강동구</td>\n",
       "      <td>강동구 명일2동</td>\n",
       "      <td>강동구 홈페이지</td>\n",
       "      <td>강동구 대표전화</td>\n",
       "      <td>02-1577-1188</td>\n",
       "      <td>일간</td>\n",
       "      <td>NaN</td>\n",
       "      <td>강동구 홈페이지(https://www.gangdong.go.kr/web/dongre...</td>\n",
       "      <td>Sheet,Api</td>\n",
       "      <td>명일2동 주민센터에서 주민에게 알리는 소식 정보로서 게시물ID, 게시물순번, 게시물...</td>\n",
       "      <td>https://data.seoul.go.kr/dataList/OA-12615/S/1...</td>\n",
       "    </tr>\n",
       "    <tr>\n",
       "      <th>1</th>\n",
       "      <td>OA-12621</td>\n",
       "      <td>서울시 강동구 암사2동 주민센터 새소식 정보</td>\n",
       "      <td>공공데이터</td>\n",
       "      <td>자치구 및 자치구산하</td>\n",
       "      <td>일반행정</td>\n",
       "      <td>강동구</td>\n",
       "      <td>강동구 암사2동</td>\n",
       "      <td>강동구 홈페이지</td>\n",
       "      <td>강동구 대표전화</td>\n",
       "      <td>02-1577-1188</td>\n",
       "      <td>일간</td>\n",
       "      <td>NaN</td>\n",
       "      <td>강동구 홈페이지(https://www.gangdong.go.kr/web/dongre...</td>\n",
       "      <td>Sheet,Api</td>\n",
       "      <td>암사2동 주민센터에서 주민에게 알리는 소식 정보로서 게시물ID, 게시물순번, 게시물...</td>\n",
       "      <td>https://data.seoul.go.kr/dataList/OA-12621/S/1...</td>\n",
       "    </tr>\n",
       "    <tr>\n",
       "      <th>2</th>\n",
       "      <td>OA-12611</td>\n",
       "      <td>서울시 강동구 길동 주민센터 새소식 정보</td>\n",
       "      <td>공공데이터</td>\n",
       "      <td>자치구 및 자치구산하</td>\n",
       "      <td>일반행정</td>\n",
       "      <td>강동구</td>\n",
       "      <td>강동구 길동</td>\n",
       "      <td>강동구 홈페이지</td>\n",
       "      <td>강동구 대표전화</td>\n",
       "      <td>02-1577-1188</td>\n",
       "      <td>일간</td>\n",
       "      <td>NaN</td>\n",
       "      <td>강동구 홈페이지(https://www.gangdong.go.kr/web/dongre...</td>\n",
       "      <td>Sheet,Api</td>\n",
       "      <td>길동 주민센터에서 주민에게 알리는 소식 정보로서 게시물ID, 게시물순번, 게시물제목...</td>\n",
       "      <td>https://data.seoul.go.kr/dataList/OA-12611/S/1...</td>\n",
       "    </tr>\n",
       "    <tr>\n",
       "      <th>3</th>\n",
       "      <td>OA-18805</td>\n",
       "      <td>서울시 성동구 통신판매업 인허가 정보</td>\n",
       "      <td>공공데이터</td>\n",
       "      <td>서울시(본청)</td>\n",
       "      <td>산업/경제</td>\n",
       "      <td>성동구</td>\n",
       "      <td>스마트도시정책관 빅데이터담당관</td>\n",
       "      <td>지방행정 인허가 데이터개방</td>\n",
       "      <td>성동구 대표전화</td>\n",
       "      <td>02-2286-5114</td>\n",
       "      <td>수시</td>\n",
       "      <td>2023-04-14</td>\n",
       "      <td>지방행정 인허가 데이터개방(http://localdata.kr)</td>\n",
       "      <td>Sheet,Api</td>\n",
       "      <td>성동구의 TV홈쇼핑, 인터넷, 카탈로그, 신문잡지, 기타의 방법으로 가구, 가전, ...</td>\n",
       "      <td>https://data.seoul.go.kr/dataList/OA-18805/S/1...</td>\n",
       "    </tr>\n",
       "    <tr>\n",
       "      <th>4</th>\n",
       "      <td>OA-19284</td>\n",
       "      <td>서울시 성북구 건물위생관리업 인허가 정보</td>\n",
       "      <td>공공데이터</td>\n",
       "      <td>서울시(본청)</td>\n",
       "      <td>환경</td>\n",
       "      <td>성북구</td>\n",
       "      <td>스마트도시정책관 빅데이터담당관</td>\n",
       "      <td>지방행정 인허가 데이터개방</td>\n",
       "      <td>성북구 대표전화</td>\n",
       "      <td>02-2241-3114</td>\n",
       "      <td>수시</td>\n",
       "      <td>2023-04-14</td>\n",
       "      <td>지방행정 인허가 데이터개방(http://localdata.kr)</td>\n",
       "      <td>Sheet,Api</td>\n",
       "      <td>성북구의 공중이 이용하는 건축물·시설물등의 청결유지와 실내공기정화를 위한 청소 등을...</td>\n",
       "      <td>https://data.seoul.go.kr/dataList/OA-19284/S/1...</td>\n",
       "    </tr>\n",
       "    <tr>\n",
       "      <th>...</th>\n",
       "      <td>...</td>\n",
       "      <td>...</td>\n",
       "      <td>...</td>\n",
       "      <td>...</td>\n",
       "      <td>...</td>\n",
       "      <td>...</td>\n",
       "      <td>...</td>\n",
       "      <td>...</td>\n",
       "      <td>...</td>\n",
       "      <td>...</td>\n",
       "      <td>...</td>\n",
       "      <td>...</td>\n",
       "      <td>...</td>\n",
       "      <td>...</td>\n",
       "      <td>...</td>\n",
       "      <td>...</td>\n",
       "    </tr>\n",
       "    <tr>\n",
       "      <th>7393</th>\n",
       "      <td>OA-350</td>\n",
       "      <td>서울시 연평균최고기온 2005년 위치정보 (좌표계: ITRF2000)</td>\n",
       "      <td>공공데이터</td>\n",
       "      <td>서울시(본청)</td>\n",
       "      <td>환경</td>\n",
       "      <td>서울특별시</td>\n",
       "      <td>기후환경본부 대기정책과</td>\n",
       "      <td>서울시 기후.에너지 지도(2010)</td>\n",
       "      <td>이경옥</td>\n",
       "      <td>02-2133-3597</td>\n",
       "      <td>주기없음</td>\n",
       "      <td>2012-01-13</td>\n",
       "      <td>서울시 기후.에너지 지도(2010)</td>\n",
       "      <td>MAP,File,Api,Sheet,Chart</td>\n",
       "      <td>&lt;b&gt;※ 본 데이터는 일회성 데이터로, 최신 데이터는 보유하고 있지 않으니 이용에 ...</td>\n",
       "      <td>https://data.seoul.go.kr/dataList/OA-350/S/1/d...</td>\n",
       "    </tr>\n",
       "    <tr>\n",
       "      <th>7394</th>\n",
       "      <td>OA-357</td>\n",
       "      <td>서울시 연평균최저기온 2008년 위치정보 (좌표계: ITRF2000)</td>\n",
       "      <td>공공데이터</td>\n",
       "      <td>서울시(본청)</td>\n",
       "      <td>환경</td>\n",
       "      <td>서울특별시</td>\n",
       "      <td>기후환경본부 대기정책과</td>\n",
       "      <td>서울시 기후.에너지 지도(2010)</td>\n",
       "      <td>이경옥</td>\n",
       "      <td>02-2133-3597</td>\n",
       "      <td>주기없음</td>\n",
       "      <td>2012-01-13</td>\n",
       "      <td>서울시 기후.에너지 지도(2010)</td>\n",
       "      <td>MAP,File,Sheet,Api,Chart</td>\n",
       "      <td>&lt;b&gt;※ 본 데이터는 일회성 데이터로, 최신 데이터는 보유하고 있지 않으니 이용에 ...</td>\n",
       "      <td>https://data.seoul.go.kr/dataList/OA-357/S/1/d...</td>\n",
       "    </tr>\n",
       "    <tr>\n",
       "      <th>7395</th>\n",
       "      <td>OA-342</td>\n",
       "      <td>서울시 자치구별 TOE 환산량 2008년 위치정보 (좌표계: ITRF2000)</td>\n",
       "      <td>공공데이터</td>\n",
       "      <td>서울시(본청)</td>\n",
       "      <td>산업/경제</td>\n",
       "      <td>서울특별시</td>\n",
       "      <td>기후환경본부 대기정책과</td>\n",
       "      <td>서울시 기후.에너지 지도(2010)</td>\n",
       "      <td>이경옥</td>\n",
       "      <td>02-2133-3597</td>\n",
       "      <td>주기없음</td>\n",
       "      <td>2012-01-13</td>\n",
       "      <td>서울시 기후.에너지 지도(2010)</td>\n",
       "      <td>MAP,File,Sheet,Api,Chart</td>\n",
       "      <td>&lt;b&gt;※ 본 데이터는 일회성 데이터로, 최신 데이터는 보유하고 있지 않으니 이용에 ...</td>\n",
       "      <td>https://data.seoul.go.kr/dataList/OA-342/S/1/d...</td>\n",
       "    </tr>\n",
       "    <tr>\n",
       "      <th>7396</th>\n",
       "      <td>OA-330</td>\n",
       "      <td>서울시 행정동별 전력 사용량 2008년 위치정보 (좌표계: ITRF2000)</td>\n",
       "      <td>공공데이터</td>\n",
       "      <td>서울시(본청)</td>\n",
       "      <td>산업/경제</td>\n",
       "      <td>서울특별시</td>\n",
       "      <td>기후환경본부 대기정책과</td>\n",
       "      <td>서울시 기후.에너지 지도(2010)</td>\n",
       "      <td>이경옥</td>\n",
       "      <td>02-2133-3597</td>\n",
       "      <td>주기없음</td>\n",
       "      <td>2012-01-13</td>\n",
       "      <td>서울시 기후.에너지 지도(2010)</td>\n",
       "      <td>MAP,File,Sheet,Api</td>\n",
       "      <td>&lt;b&gt;※ 본 데이터는 일회성 데이터로, 최신 데이터는 보유하고 있지 않으니 이용에 ...</td>\n",
       "      <td>https://data.seoul.go.kr/dataList/OA-330/S/1/d...</td>\n",
       "    </tr>\n",
       "    <tr>\n",
       "      <th>7397</th>\n",
       "      <td>OA-2532</td>\n",
       "      <td>서울시 사회적기업 지원 기관 목록 정보</td>\n",
       "      <td>공공데이터</td>\n",
       "      <td>서울시(본청)</td>\n",
       "      <td>산업/경제</td>\n",
       "      <td>서울특별시</td>\n",
       "      <td>노동공정상생정책관 소상공인담당관</td>\n",
       "      <td>서울 사회적경제 포털</td>\n",
       "      <td>이경훈</td>\n",
       "      <td>02-2133-5491</td>\n",
       "      <td>일간</td>\n",
       "      <td>2011-01-06</td>\n",
       "      <td>서울 사회적경제 포털(http://sehub.net/)</td>\n",
       "      <td>Sheet,Api</td>\n",
       "      <td>사회적경제 홈페이지에서 제공하는 사회적기업 지원 기관의 홈페이지 링크 목록입니다</td>\n",
       "      <td>https://data.seoul.go.kr/dataList/OA-2532/S/1/...</td>\n",
       "    </tr>\n",
       "  </tbody>\n",
       "</table>\n",
       "<p>7398 rows × 16 columns</p>\n",
       "</div>"
      ],
      "text/plain": [
       "         서비스ID                                         서비스명    대분류   \n",
       "0     OA-12615                     서울시 강동구 명일2동 주민센터 새소식 정보  공공데이터  \\\n",
       "1     OA-12621                     서울시 강동구 암사2동 주민센터 새소식 정보  공공데이터   \n",
       "2     OA-12611                       서울시 강동구 길동 주민센터 새소식 정보  공공데이터   \n",
       "3     OA-18805                         서울시 성동구 통신판매업 인허가 정보  공공데이터   \n",
       "4     OA-19284                       서울시 성북구 건물위생관리업 인허가 정보  공공데이터   \n",
       "...        ...                                          ...    ...   \n",
       "7393    OA-350       서울시 연평균최고기온 2005년 위치정보 (좌표계: ITRF2000)  공공데이터   \n",
       "7394    OA-357       서울시 연평균최저기온 2008년 위치정보 (좌표계: ITRF2000)  공공데이터   \n",
       "7395    OA-342  서울시 자치구별 TOE 환산량 2008년 위치정보 (좌표계: ITRF2000)  공공데이터   \n",
       "7396    OA-330   서울시 행정동별 전력 사용량 2008년 위치정보 (좌표계: ITRF2000)  공공데이터   \n",
       "7397   OA-2532                        서울시 사회적기업 지원 기관 목록 정보  공공데이터   \n",
       "\n",
       "              중분류    소분류   제공기관              제공부서명                 시스템명   \n",
       "0     자치구 및 자치구산하   일반행정    강동구           강동구 명일2동             강동구 홈페이지  \\\n",
       "1     자치구 및 자치구산하   일반행정    강동구           강동구 암사2동             강동구 홈페이지   \n",
       "2     자치구 및 자치구산하   일반행정    강동구             강동구 길동             강동구 홈페이지   \n",
       "3         서울시(본청)  산업/경제    성동구   스마트도시정책관 빅데이터담당관       지방행정 인허가 데이터개방   \n",
       "4         서울시(본청)     환경    성북구   스마트도시정책관 빅데이터담당관       지방행정 인허가 데이터개방   \n",
       "...           ...    ...    ...                ...                  ...   \n",
       "7393      서울시(본청)     환경  서울특별시       기후환경본부 대기정책과  서울시 기후.에너지 지도(2010)   \n",
       "7394      서울시(본청)     환경  서울특별시       기후환경본부 대기정책과  서울시 기후.에너지 지도(2010)   \n",
       "7395      서울시(본청)  산업/경제  서울특별시       기후환경본부 대기정책과  서울시 기후.에너지 지도(2010)   \n",
       "7396      서울시(본청)  산업/경제  서울특별시       기후환경본부 대기정책과  서울시 기후.에너지 지도(2010)   \n",
       "7397      서울시(본청)  산업/경제  서울특별시  노동공정상생정책관 소상공인담당관          서울 사회적경제 포털   \n",
       "\n",
       "          담당자명        담당자연락처  갱신주기      최종갱신일자   \n",
       "0     강동구 대표전화  02-1577-1188    일간         NaN  \\\n",
       "1     강동구 대표전화  02-1577-1188    일간         NaN   \n",
       "2     강동구 대표전화  02-1577-1188    일간         NaN   \n",
       "3     성동구 대표전화  02-2286-5114    수시  2023-04-14   \n",
       "4     성북구 대표전화  02-2241-3114    수시  2023-04-14   \n",
       "...        ...           ...   ...         ...   \n",
       "7393       이경옥  02-2133-3597  주기없음  2012-01-13   \n",
       "7394       이경옥  02-2133-3597  주기없음  2012-01-13   \n",
       "7395       이경옥  02-2133-3597  주기없음  2012-01-13   \n",
       "7396       이경옥  02-2133-3597  주기없음  2012-01-13   \n",
       "7397       이경훈  02-2133-5491    일간  2011-01-06   \n",
       "\n",
       "                                                  제공사이트   \n",
       "0     강동구 홈페이지(https://www.gangdong.go.kr/web/dongre...  \\\n",
       "1     강동구 홈페이지(https://www.gangdong.go.kr/web/dongre...   \n",
       "2     강동구 홈페이지(https://www.gangdong.go.kr/web/dongre...   \n",
       "3                   지방행정 인허가 데이터개방(http://localdata.kr)   \n",
       "4                   지방행정 인허가 데이터개방(http://localdata.kr)   \n",
       "...                                                 ...   \n",
       "7393                                서울시 기후.에너지 지도(2010)   \n",
       "7394                                서울시 기후.에너지 지도(2010)   \n",
       "7395                                서울시 기후.에너지 지도(2010)   \n",
       "7396                                서울시 기후.에너지 지도(2010)   \n",
       "7397                     서울 사회적경제 포털(http://sehub.net/)   \n",
       "\n",
       "                          제공형식   \n",
       "0                    Sheet,Api  \\\n",
       "1                    Sheet,Api   \n",
       "2                    Sheet,Api   \n",
       "3                    Sheet,Api   \n",
       "4                    Sheet,Api   \n",
       "...                        ...   \n",
       "7393  MAP,File,Api,Sheet,Chart   \n",
       "7394  MAP,File,Sheet,Api,Chart   \n",
       "7395  MAP,File,Sheet,Api,Chart   \n",
       "7396        MAP,File,Sheet,Api   \n",
       "7397                 Sheet,Api   \n",
       "\n",
       "                                                  서비스설명   \n",
       "0     명일2동 주민센터에서 주민에게 알리는 소식 정보로서 게시물ID, 게시물순번, 게시물...  \\\n",
       "1     암사2동 주민센터에서 주민에게 알리는 소식 정보로서 게시물ID, 게시물순번, 게시물...   \n",
       "2     길동 주민센터에서 주민에게 알리는 소식 정보로서 게시물ID, 게시물순번, 게시물제목...   \n",
       "3     성동구의 TV홈쇼핑, 인터넷, 카탈로그, 신문잡지, 기타의 방법으로 가구, 가전, ...   \n",
       "4     성북구의 공중이 이용하는 건축물·시설물등의 청결유지와 실내공기정화를 위한 청소 등을...   \n",
       "...                                                 ...   \n",
       "7393  <b>※ 본 데이터는 일회성 데이터로, 최신 데이터는 보유하고 있지 않으니 이용에 ...   \n",
       "7394  <b>※ 본 데이터는 일회성 데이터로, 최신 데이터는 보유하고 있지 않으니 이용에 ...   \n",
       "7395  <b>※ 본 데이터는 일회성 데이터로, 최신 데이터는 보유하고 있지 않으니 이용에 ...   \n",
       "7396  <b>※ 본 데이터는 일회성 데이터로, 최신 데이터는 보유하고 있지 않으니 이용에 ...   \n",
       "7397       사회적경제 홈페이지에서 제공하는 사회적기업 지원 기관의 홈페이지 링크 목록입니다   \n",
       "\n",
       "                                                   urls  \n",
       "0     https://data.seoul.go.kr/dataList/OA-12615/S/1...  \n",
       "1     https://data.seoul.go.kr/dataList/OA-12621/S/1...  \n",
       "2     https://data.seoul.go.kr/dataList/OA-12611/S/1...  \n",
       "3     https://data.seoul.go.kr/dataList/OA-18805/S/1...  \n",
       "4     https://data.seoul.go.kr/dataList/OA-19284/S/1...  \n",
       "...                                                 ...  \n",
       "7393  https://data.seoul.go.kr/dataList/OA-350/S/1/d...  \n",
       "7394  https://data.seoul.go.kr/dataList/OA-357/S/1/d...  \n",
       "7395  https://data.seoul.go.kr/dataList/OA-342/S/1/d...  \n",
       "7396  https://data.seoul.go.kr/dataList/OA-330/S/1/d...  \n",
       "7397  https://data.seoul.go.kr/dataList/OA-2532/S/1/...  \n",
       "\n",
       "[7398 rows x 16 columns]"
      ]
     },
     "execution_count": 6,
     "metadata": {},
     "output_type": "execute_result"
    }
   ],
   "source": [
    "df"
   ]
  },
  {
   "cell_type": "code",
   "execution_count": 25,
   "id": "6dca478b-83d0-407b-a220-75d76fa8789e",
   "metadata": {
    "tags": []
   },
   "outputs": [],
   "source": [
    "test_list = df.서비스명.to_list()"
   ]
  },
  {
   "cell_type": "code",
   "execution_count": 22,
   "id": "7b731fdc-57e4-475e-b219-ec4d0e74e16f",
   "metadata": {
    "collapsed": true,
    "jupyter": {
     "outputs_hidden": true
    },
    "tags": []
   },
   "outputs": [
    {
     "name": "stderr",
     "output_type": "stream",
     "text": [
      "Downloading (…)925a9/.gitattributes: 100%|██████| 690/690 [00:00<00:00, 365kB/s]\n",
      "Downloading (…)_Pooling/config.json: 100%|██████| 190/190 [00:00<00:00, 538kB/s]\n",
      "Downloading (…)1a515925a9/README.md: 100%|█| 3.99k/3.99k [00:00<00:00, 13.2MB/s]\n",
      "Downloading (…)515925a9/config.json: 100%|█████| 550/550 [00:00<00:00, 3.16MB/s]\n",
      "Downloading (…)ce_transformers.json: 100%|██████| 122/122 [00:00<00:00, 340kB/s]\n",
      "Downloading pytorch_model.bin: 100%|█████████| 265M/265M [00:26<00:00, 10.2MB/s]\n",
      "Downloading (…)nce_bert_config.json: 100%|████| 53.0/53.0 [00:00<00:00, 174kB/s]\n",
      "Downloading (…)cial_tokens_map.json: 100%|██████| 112/112 [00:00<00:00, 292kB/s]\n",
      "Downloading (…)925a9/tokenizer.json: 100%|███| 466k/466k [00:00<00:00, 9.47MB/s]\n",
      "Downloading (…)okenizer_config.json: 100%|█████| 450/450 [00:00<00:00, 1.28MB/s]\n",
      "Downloading (…)1a515925a9/vocab.txt: 100%|████| 232k/232k [00:00<00:00, 640kB/s]\n",
      "Downloading (…)15925a9/modules.json: 100%|██████| 229/229 [00:00<00:00, 845kB/s]\n"
     ]
    },
    {
     "ename": "NameError",
     "evalue": "name 'data' is not defined",
     "output_type": "error",
     "traceback": [
      "\u001b[0;31m---------------------------------------------------------------------------\u001b[0m",
      "\u001b[0;31mNameError\u001b[0m                                 Traceback (most recent call last)",
      "Cell \u001b[0;32mIn[22], line 2\u001b[0m\n\u001b[1;32m      1\u001b[0m model \u001b[38;5;241m=\u001b[39m SentenceTransformer(\u001b[38;5;124m'\u001b[39m\u001b[38;5;124mdistilbert-base-nli-mean-tokens\u001b[39m\u001b[38;5;124m'\u001b[39m)\n\u001b[0;32m----> 2\u001b[0m encoded_data \u001b[38;5;241m=\u001b[39m model\u001b[38;5;241m.\u001b[39mencode(\u001b[43mdata\u001b[49m)\n\u001b[1;32m      3\u001b[0m \u001b[38;5;28mprint\u001b[39m(\u001b[38;5;124m'\u001b[39m\u001b[38;5;124m임베딩 된 벡터 수 :\u001b[39m\u001b[38;5;124m'\u001b[39m, \u001b[38;5;28mlen\u001b[39m(encoded_data))\n",
      "\u001b[0;31mNameError\u001b[0m: name 'data' is not defined"
     ]
    }
   ],
   "source": [
    "model = SentenceTransformer('distilbert-base-nli-mean-tokens')"
   ]
  },
  {
   "cell_type": "code",
   "execution_count": 26,
   "id": "e4731181-20f1-467a-bbf1-c65aa2e263b6",
   "metadata": {
    "tags": []
   },
   "outputs": [
    {
     "name": "stdout",
     "output_type": "stream",
     "text": [
      "임베딩 된 벡터 수 : 7398\n"
     ]
    }
   ],
   "source": [
    "encoded_data = model.encode(test_list)\n",
    "print('임베딩 된 벡터 수 :', len(encoded_data))"
   ]
  },
  {
   "cell_type": "code",
   "execution_count": 32,
   "id": "4f3c094f-b5b6-420e-b9a8-7791986af86f",
   "metadata": {
    "tags": []
   },
   "outputs": [],
   "source": [
    "gg = pd.DataFrame(encoded_data)"
   ]
  },
  {
   "cell_type": "code",
   "execution_count": 33,
   "id": "7e765fd8-744a-464a-a8f9-a0cc04d0bd41",
   "metadata": {
    "tags": []
   },
   "outputs": [],
   "source": [
    "# gg.to_csv(\"임베딩.csv\",index = False)"
   ]
  },
  {
   "cell_type": "code",
   "execution_count": 34,
   "id": "206cb311-1a94-4254-9694-10e24798367c",
   "metadata": {
    "tags": []
   },
   "outputs": [],
   "source": [
    "index = faiss.IndexIDMap(faiss.IndexFlatIP(3))"
   ]
  },
  {
   "cell_type": "code",
   "execution_count": 45,
   "id": "3fb676c6-3bd1-431d-98a1-82c14b2b5da0",
   "metadata": {
    "tags": []
   },
   "outputs": [
    {
     "data": {
      "text/plain": [
       "array([[-1.5167751e+00, -4.1165814e-01,  5.4186779e-01, ...,\n",
       "         2.1649906e-01,  4.4315782e-01, -5.9748107e-01],\n",
       "       [-1.5166954e+00, -3.6464989e-01,  4.8307404e-01, ...,\n",
       "         1.8366843e-01,  4.4456688e-01, -6.2987757e-01],\n",
       "       [-1.5393742e+00, -3.9079607e-01,  5.3113961e-01, ...,\n",
       "         2.4665739e-01,  4.2285979e-01, -5.8793980e-01],\n",
       "       ...,\n",
       "       [-1.4407890e+00, -6.7301702e-01,  8.2360804e-01, ...,\n",
       "         9.2588395e-02,  3.9122321e-04, -6.4048630e-01],\n",
       "       [-1.4337369e+00, -6.2277317e-01,  7.9596609e-01, ...,\n",
       "         1.0572040e-01,  4.7506336e-02, -7.6883447e-01],\n",
       "       [-1.4101390e+00, -3.5021406e-01,  6.7807555e-01, ...,\n",
       "         1.4625199e-01,  3.4862927e-01, -7.4407798e-01]], dtype=float32)"
      ]
     },
     "execution_count": 45,
     "metadata": {},
     "output_type": "execute_result"
    }
   ],
   "source": [
    "encoded_data"
   ]
  },
  {
   "cell_type": "code",
   "execution_count": 37,
   "id": "94fb7382-c801-4ce5-a588-5b3eb91348a5",
   "metadata": {
    "tags": []
   },
   "outputs": [],
   "source": [
    "index.add_with_ids(encoded_data, np.array(range(0, len(test_list))))"
   ]
  },
  {
   "cell_type": "code",
   "execution_count": 38,
   "id": "0f1d00c1-9e3d-418a-857d-efa333dfd6b7",
   "metadata": {
    "tags": []
   },
   "outputs": [
    {
     "data": {
      "text/plain": [
       "<faiss.swigfaiss_avx2.IndexIDMap; proxy of <Swig Object of type 'faiss::IndexIDMapTemplate< faiss::Index > *' at 0x1539ec240> >"
      ]
     },
     "execution_count": 38,
     "metadata": {},
     "output_type": "execute_result"
    }
   ],
   "source": [
    "index"
   ]
  },
  {
   "cell_type": "code",
   "execution_count": 39,
   "id": "0cad5cf9-e4ef-4c67-b87f-94e1c6f9b449",
   "metadata": {
    "tags": []
   },
   "outputs": [],
   "source": [
    "faiss.write_index(index, 'abc_news')"
   ]
  },
  {
   "cell_type": "code",
   "execution_count": 42,
   "id": "575c3317-238a-4b8e-a1a7-3a6835c4f0c7",
   "metadata": {
    "tags": []
   },
   "outputs": [],
   "source": [
    "def search(query):\n",
    "    t = time.time()\n",
    "    query_vector = model.encode([query])\n",
    "    k = 5\n",
    "    top_k = index.search(query_vector, k)\n",
    "    print('total time: {}'.format(time.time() - t))\n",
    "    return [test_list[_id] for _id in top_k[1].tolist()[0]]"
   ]
  },
  {
   "cell_type": "code",
   "execution_count": 44,
   "id": "0df0c188-8ffb-4bdd-aa0f-0eae65fb3ab2",
   "metadata": {
    "tags": []
   },
   "outputs": [
    {
     "name": "stdout",
     "output_type": "stream",
     "text": [
      " 하천\n"
     ]
    },
    {
     "name": "stdout",
     "output_type": "stream",
     "text": [
      "total time: 0.06947875022888184\n",
      "results :\n",
      "\t 한울타리 웹진\n",
      "\t 사회적거리두기로 인한 어려움\n",
      "\t 보유 자산\n",
      "\t 가구원 최종 학교\n",
      "\t 서울시 하천기본계획정보\n"
     ]
    }
   ],
   "source": [
    "query = str(input())\n",
    "results = search(query)\n",
    "\n",
    "print('results :')\n",
    "for result in results:\n",
    "    print('\\t', result)"
   ]
  },
  {
   "cell_type": "code",
   "execution_count": 47,
   "id": "a4e7fed0-aee1-4b69-b267-8358d9b66323",
   "metadata": {
    "tags": []
   },
   "outputs": [
    {
     "data": {
      "text/plain": [
       "0       OA-12615\n",
       "1       OA-12621\n",
       "2       OA-12611\n",
       "3       OA-18805\n",
       "4       OA-19284\n",
       "          ...   \n",
       "7393      OA-350\n",
       "7394      OA-357\n",
       "7395      OA-342\n",
       "7396      OA-330\n",
       "7397     OA-2532\n",
       "Name: 서비스ID, Length: 7398, dtype: object"
      ]
     },
     "execution_count": 47,
     "metadata": {},
     "output_type": "execute_result"
    }
   ],
   "source": [
    "df['서비스ID']"
   ]
  },
  {
   "cell_type": "code",
   "execution_count": null,
   "id": "0c0752b2-b38d-432b-9ecd-c1e198f9a03a",
   "metadata": {},
   "outputs": [],
   "source": [
    "#"
   ]
  },
  {
   "cell_type": "code",
   "execution_count": null,
   "id": "721fa3af-2364-4e2c-a3c5-4fd09b6dc733",
   "metadata": {},
   "outputs": [],
   "source": []
  }
 ],
 "metadata": {
  "kernelspec": {
   "display_name": "Python 3 (ipykernel)",
   "language": "python",
   "name": "python3"
  },
  "language_info": {
   "codemirror_mode": {
    "name": "ipython",
    "version": 3
   },
   "file_extension": ".py",
   "mimetype": "text/x-python",
   "name": "python",
   "nbconvert_exporter": "python",
   "pygments_lexer": "ipython3",
   "version": "3.11.2"
  }
 },
 "nbformat": 4,
 "nbformat_minor": 5
}
