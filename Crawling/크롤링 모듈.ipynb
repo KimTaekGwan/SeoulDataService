{
 "cells": [
  {
   "cell_type": "code",
   "execution_count": 2,
   "id": "563c4cf6-9f29-4aef-9f77-01a8fbb28cf9",
   "metadata": {},
   "outputs": [],
   "source": [
    "import requests\n",
    "from bs4 import BeautifulSoup\n",
    "import os\n",
    "from dotenv import load_dotenv\n",
    "import pandas as pd"
   ]
  },
  {
   "cell_type": "code",
   "execution_count": 19,
   "id": "8e355bc4-577b-425d-9bae-fc2d14c180d1",
   "metadata": {
    "tags": []
   },
   "outputs": [],
   "source": [
    "#.env 파일에서 opendata_key 키 설정\n",
    "#goodyoung: 4e465a626d30363134304465454b78"
   ]
  },
  {
   "cell_type": "code",
   "execution_count": 10,
   "id": "97649e63-1cee-4800-8070-6eb746879ea9",
   "metadata": {
    "collapsed": true,
    "jupyter": {
     "outputs_hidden": true
    },
    "tags": []
   },
   "outputs": [
    {
     "name": "stdout",
     "output_type": "stream",
     "text": [
      "Collecting python-dotenv\n",
      "  Using cached python_dotenv-1.0.0-py3-none-any.whl (19 kB)\n",
      "Installing collected packages: python-dotenv\n",
      "Successfully installed python-dotenv-1.0.0\n"
     ]
    }
   ],
   "source": [
    "# !pip3 install python-dotenv"
   ]
  },
  {
   "cell_type": "code",
   "execution_count": null,
   "id": "c2f4285e-24e0-40a4-b485-4522d6cc51ad",
   "metadata": {},
   "outputs": [],
   "source": [
    "# 1\tINF_ID\t서비스 ID\n",
    "# 2\tINF_NM\t서비스명\n",
    "# 3\tCATE_NM\t대분류\n",
    "# 4\tDITC_NM\t중분류\n",
    "# 5\tMAP_CATE_NM\t소분류\n",
    "# 6\tMNG_ORGAN_NAME\t제공기관\n",
    "# 7\tMNG_STATION_NAME\t제공부서명\n",
    "# 8\tLINK_DESC\t시스템명\n",
    "# 9\tMANAGER_NAME\t담당자명\n",
    "# 10\tMANAGER_PHONE\t담당자연락처\n",
    "# 11\tCHNG_LOAD_NM\t갱신주기\n",
    "# 12\tDATA_LT_NM\t최종갱신일자\n",
    "# 13\tLINK_INFO\t제공사이트\n",
    "# 14\tSRV_TYPE\t제공형식\n",
    "# 15\tSHORT_URL\t서비스URL"
   ]
  },
  {
   "cell_type": "code",
   "execution_count": 3,
   "id": "639bdb1e-36ab-4b10-b0e7-1f7d1713ab2a",
   "metadata": {},
   "outputs": [],
   "source": [
    "class GetData:\n",
    "    def __init__(self):\n",
    "        self.data = []\n",
    "        self.datas = []\n",
    "        self.setting()\n",
    "        self.df_total = pd.DataFrame()\n",
    "        \n",
    "    def setting(self):\n",
    "        load_dotenv()\n",
    "        self.key = os.getenv(\"opendata_key\")\n",
    "        \n",
    "    def test(self, api_num):\n",
    "        for num in range(api_num):\n",
    "            self.url = f'http://openAPI.seoul.go.kr:8088/{self.key}/xml/SearchCatalogService/{num}000/{num}999/'\n",
    "            self.req = requests.get(self.url)\n",
    "            self.soup = BeautifulSoup(self.req.text, 'xml')\n",
    "            #더 이쁘게,,, 3중 포문이 나을까,,?\n",
    "            self.id = self.soup.select('INF_ID') #서비스ID\n",
    "            self.name = self.soup.select('INF_NM') #서비스명\n",
    "            self.big = self.soup.select('CATE_NM') #대분류\n",
    "            self.middle = self.soup.select('DITC_NM') #중분류\n",
    "            self.small = self.soup.select('MAP_CATE_NM') #소분류\n",
    "            self.agency  = self.soup.select('MNG_ORGAN_NAME')#제공기관\n",
    "            self.department = self.soup.select('MNG_STATION_NAME') #제공부서명\n",
    "            self.system = self.soup.select('LINK_DESC') #시스템명\n",
    "            self.manager = self.soup.select('MANAGER_NAME') #담당자명\n",
    "            self.manager_tel = self.soup.select('MANAGER_PHONE') #담당자연락처\n",
    "            self.renewal = self.soup.select('CHNG_LOAD_NM') #갱신주기\n",
    "            self.final_renewal = self.soup.select('DATA_LT_NM') #최종갱신일자\n",
    "            self.site = self.soup.select('LINK_INFO') #제공사이트\n",
    "            self.form = self.soup.select('SRV_TYPE') #제공형식\n",
    "            self.service_url = self.soup.select('SHORT_URL') #서비스URL\n",
    "            \n",
    "            \n",
    "            for s in range(len(self.name)):\n",
    "                col = [self.id[s].text, self.name[s].text, self.big[s].text, self.middle[s].text, self.small[s].text,\n",
    "                       self.agency[s].text, self.department[s].text, self.system[s].text, self.manager[s].text, self.manager_tel[s].text,\n",
    "                      self.renewal[s].text, self.final_renewal[s].text, self.site[s].text, self.form[s].text, self.service_url[s].text]\n",
    "                self.data.append(col)\n",
    "                \n",
    "    def test2(self):        \n",
    "        for j in range(17):\n",
    "            url = f'http://openAPI.seoul.go.kr:8088/{self.key}/xml/SearchOpenDataServiceList/{j}000/{j}999/'\n",
    "            req = requests.get(url)\n",
    "            soup = BeautifulSoup(req.text, 'xml')\n",
    "            name = soup.select('INF_NM')\n",
    "            exp = soup.select('INF_EXP')\n",
    "            for k in range(len(name)):\n",
    "                col = [name[k].text, exp[k].text]\n",
    "                self.datas.append(col)    \n",
    "            print('ads',j)\n",
    "\n",
    "    def dataMerge(self):\n",
    "        ##1\n",
    "        df = pd.DataFrame(self.data, columns = ['서비스ID','서비스명','대분류','중분류','소분류','제공기관','제공부서명','시스템명','담당자명','담당자연락처',\n",
    "                               '갱신주기','최종갱신일자','제공사이트','제공형식','서비스URL'])\n",
    "        df.drop_duplicates(subset = '서비스명', inplace = True)\n",
    "        print(f\"서울시 개방현황: 총 {len(df)}개 입니다.\")\n",
    "        \n",
    "        ##2\n",
    "        df2 = pd.DataFrame(self.datas, columns=['서비스명','서비스설명'])\n",
    "        df2.drop_duplicates(subset = '서비스명', inplace = True)\n",
    "        print(f\"서울시 서비스: 총 {len(df2)}개 입니다.\")\n",
    "        \n",
    "        ##3\n",
    "        self.df_total = pd.merge(df,df2,on = '서비스명')\n",
    "        print(f\"서울시 공공데이터: 총 {len(self.df_total)}개 입니다.\")\n",
    "        \n",
    "        return self.df_total\n",
    "    \n",
    "    \n",
    "    def changeurl(self,s):\n",
    "        return f\"https://data.seoul.go.kr/dataList/{s}/S/1/datasetView.do\"\n",
    "    \n",
    "    \n",
    "    def dataPreprocessing(self):\n",
    "        self.df_total.drop(['서비스URL'], axis = 1, inplace = True)\n",
    "        self.df_total['urls'] = self.df_total['서비스ID'].apply(self.changeurl)\n",
    "        \n",
    "    def getapi(self,api_num = 1): # api_num =8주면 보통 다 크롤링 해온다.\n",
    "        self.test(api_num) # 서울시 개방현황\n",
    "        self.test2() # 서울시 서비스 현황\n",
    "        self.dataMerge() # 데이터 합치기\n",
    "        self.dataPreprocessing() # url만들기\n",
    "        return self.df_total"
   ]
  },
  {
   "cell_type": "code",
   "execution_count": 4,
   "id": "fca00594-9340-4d15-bdf6-2bb80ccd89e1",
   "metadata": {
    "tags": []
   },
   "outputs": [],
   "source": [
    "a = GetData()"
   ]
  },
  {
   "cell_type": "code",
   "execution_count": 5,
   "id": "fa921f77-922c-48ed-b510-95c734602e4c",
   "metadata": {
    "tags": []
   },
   "outputs": [
    {
     "name": "stdout",
     "output_type": "stream",
     "text": [
      "ads 0\n",
      "ads 1\n",
      "ads 2\n",
      "ads 3\n",
      "ads 4\n",
      "ads 5\n",
      "ads 6\n",
      "ads 7\n",
      "ads 8\n",
      "ads 9\n",
      "ads 10\n",
      "ads 11\n",
      "ads 12\n",
      "ads 13\n",
      "ads 14\n",
      "ads 15\n",
      "ads 16\n",
      "서울시 개방현황: 총 7398개 입니다.\n",
      "서울시 서비스: 총 7398개 입니다.\n",
      "서울시 공공데이터: 총 7398개 입니다.\n"
     ]
    }
   ],
   "source": [
    "s = a.getapi(api_num=8)"
   ]
  },
  {
   "cell_type": "code",
   "execution_count": 7,
   "id": "82fb3f9d-b293-4ef1-9f90-7f725862e8c7",
   "metadata": {
    "tags": []
   },
   "outputs": [],
   "source": [
    "s.to_csv(\"최종인가봉가.csv\", index = False)"
   ]
  },
  {
   "cell_type": "code",
   "execution_count": null,
   "id": "4f069891-50f9-48f9-af49-8524933930e9",
   "metadata": {},
   "outputs": [],
   "source": []
  }
 ],
 "metadata": {
  "kernelspec": {
   "display_name": "Python 3 (ipykernel)",
   "language": "python",
   "name": "python3"
  },
  "language_info": {
   "codemirror_mode": {
    "name": "ipython",
    "version": 3
   },
   "file_extension": ".py",
   "mimetype": "text/x-python",
   "name": "python",
   "nbconvert_exporter": "python",
   "pygments_lexer": "ipython3",
   "version": "3.11.2"
  }
 },
 "nbformat": 4,
 "nbformat_minor": 5
}
