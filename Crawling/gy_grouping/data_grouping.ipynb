{
 "cells": [
  {
   "cell_type": "code",
   "execution_count": null,
   "id": "1a7136f5-e757-411d-b004-bfaa0666a9ea",
   "metadata": {},
   "outputs": [],
   "source": [
    "import pandas as pd"
   ]
  },
  {
   "cell_type": "code",
   "execution_count": 114,
   "id": "d620da91-45fe-42c3-9ac3-04e278e4155b",
   "metadata": {
    "tags": []
   },
   "outputs": [],
   "source": [
    "df = pd.read_csv(\"../서울시 공공데이터 최종.csv\")"
   ]
  },
  {
   "cell_type": "code",
   "execution_count": 115,
   "id": "2f27d77b-575a-45c6-bc28-cc9da3ac2d50",
   "metadata": {
    "tags": []
   },
   "outputs": [
    {
     "data": {
      "text/plain": [
       "대분류\n",
       "공공데이터    5852\n",
       "통계       1546\n",
       "Name: count, dtype: int64"
      ]
     },
     "execution_count": 115,
     "metadata": {},
     "output_type": "execute_result"
    }
   ],
   "source": [
    "df['대분류'].value_counts()"
   ]
  },
  {
   "cell_type": "code",
   "execution_count": 116,
   "id": "d5be721c-8480-46f3-a84b-40261c7d3475",
   "metadata": {
    "tags": []
   },
   "outputs": [
    {
     "data": {
      "text/plain": [
       "중분류\n",
       "서울시(본청)        5662\n",
       "자치구 및 자치구산하    1167\n",
       "공공기관(외부)        365\n",
       "서울시(산하기관)       172\n",
       "서울시(사업소)         30\n",
       "민간(기업)            2\n",
       "Name: count, dtype: int64"
      ]
     },
     "execution_count": 116,
     "metadata": {},
     "output_type": "execute_result"
    }
   ],
   "source": [
    "df['중분류'].value_counts()"
   ]
  },
  {
   "cell_type": "code",
   "execution_count": 117,
   "id": "1da766bf-228c-46c3-bd0f-490019085534",
   "metadata": {
    "tags": []
   },
   "outputs": [
    {
     "data": {
      "text/plain": [
       "소분류\n",
       "보건       1737\n",
       "문화/관광    1584\n",
       "산업/경제     838\n",
       "환경        552\n",
       "교육        473\n",
       "일반행정      434\n",
       "교통        373\n",
       "복지        265\n",
       "인구/가구     239\n",
       "안전        206\n",
       "도시관리      206\n",
       "주택/건설     157\n",
       "Name: count, dtype: int64"
      ]
     },
     "execution_count": 117,
     "metadata": {},
     "output_type": "execute_result"
    }
   ],
   "source": [
    "df['소분류'].value_counts()"
   ]
  },
  {
   "cell_type": "code",
   "execution_count": 118,
   "id": "aa52ed1c-fc25-4ec1-b835-911d64b787d7",
   "metadata": {
    "tags": []
   },
   "outputs": [],
   "source": [
    "clustring_list = {'보건':0, '문화/관광':1, '산업/경제':2, '환경':3, '교육':4, '일반행정':5, '교통':6, '복지':7, '인구/가구':8, '안전':9,\n",
    "       '도시관리':10, '주택/건설':11}"
   ]
  },
  {
   "cell_type": "code",
   "execution_count": 119,
   "id": "c99e9c09-36bb-4290-9f20-2bd69b64a042",
   "metadata": {
    "tags": []
   },
   "outputs": [],
   "source": [
    "df['소분류'] = df['소분류'].map(clustring_list)"
   ]
  },
  {
   "cell_type": "code",
   "execution_count": 120,
   "id": "fe99119c-fcb7-4f45-8f38-7d1c3fcb0b17",
   "metadata": {
    "tags": []
   },
   "outputs": [],
   "source": [
    "df['소분류'] = df['소분류'].fillna(12)"
   ]
  },
  {
   "cell_type": "code",
   "execution_count": 123,
   "id": "56b10b56-5672-4ec6-b4ce-3b8b00113ea1",
   "metadata": {
    "tags": []
   },
   "outputs": [],
   "source": [
    "df['소분류'] = df['소분류'].astype(int)"
   ]
  },
  {
   "cell_type": "code",
   "execution_count": null,
   "id": "d360d1ef-9cf3-4da9-8877-6796a39e1e30",
   "metadata": {},
   "outputs": [
    {
     "data": {
      "text/plain": [
       "0"
      ]
     },
     "execution_count": 124,
     "metadata": {},
     "output_type": "execute_result"
    }
   ],
   "source": [
    "df['소분류'].isna().sum()"
   ]
  },
  {
   "cell_type": "code",
   "execution_count": 125,
   "id": "771abdb3-1036-4020-9da0-3dd95abb588d",
   "metadata": {
    "tags": []
   },
   "outputs": [],
   "source": [
    "serviceId = df['서비스명'].to_dict()"
   ]
  },
  {
   "cell_type": "code",
   "execution_count": 126,
   "id": "cbcf20d8-b478-4f04-8bd2-47268d1d85d1",
   "metadata": {
    "tags": []
   },
   "outputs": [],
   "source": [
    "sub = df['소분류'].to_dict()"
   ]
  },
  {
   "cell_type": "code",
   "execution_count": 127,
   "id": "79307e81-e746-42f7-872e-4e9ee02df750",
   "metadata": {
    "tags": []
   },
   "outputs": [],
   "source": [
    "ret = []\n",
    "for i,j in zip(serviceId.values(), sub.values()):\n",
    "    temp_dict = {}\n",
    "    temp_dict[\"id\"] = i\n",
    "    temp_dict[\"group\"] = j\n",
    "    ret.append(temp_dict)"
   ]
  },
  {
   "cell_type": "code",
   "execution_count": 128,
   "id": "09501f18-c2d9-4d9e-9e0b-9abb9063bdcc",
   "metadata": {
    "tags": []
   },
   "outputs": [],
   "source": [
    "nodes = {\"nodes\":ret}"
   ]
  },
  {
   "cell_type": "code",
   "execution_count": 59,
   "id": "16488ab4-1e71-40ac-aa5a-8ae79c542b53",
   "metadata": {
    "tags": []
   },
   "outputs": [
    {
     "data": {
      "text/plain": [
       "7398"
      ]
     },
     "execution_count": 59,
     "metadata": {},
     "output_type": "execute_result"
    }
   ],
   "source": [
    "len(ret)"
   ]
  },
  {
   "cell_type": "code",
   "execution_count": 130,
   "id": "677a09b9-e67f-4021-859e-450c9ed18995",
   "metadata": {
    "tags": []
   },
   "outputs": [],
   "source": [
    "import json"
   ]
  },
  {
   "cell_type": "code",
   "execution_count": 129,
   "id": "c2d1da93-8403-43bd-997f-115cfb49849e",
   "metadata": {
    "tags": []
   },
   "outputs": [],
   "source": [
    "file_path = \"./gy_test.json\""
   ]
  },
  {
   "cell_type": "code",
   "execution_count": 133,
   "id": "d79b36cb-a09e-4b6b-a692-b94103262456",
   "metadata": {
    "tags": []
   },
   "outputs": [],
   "source": [
    "with open(file_path, 'w', encoding='utf-8') as file:\n",
    "    json.dump(nodes, file, ensure_ascii=False)"
   ]
  },
  {
   "cell_type": "code",
   "execution_count": 132,
   "id": "aaeb7b60-aa3c-44cf-90f6-d6e98fe84799",
   "metadata": {
    "tags": []
   },
   "outputs": [],
   "source": [
    "#파일 읽을 때\n",
    "# with open(file_path, 'r') as file:\n",
    "#     data = json.load(file)"
   ]
  },
  {
   "cell_type": "code",
   "execution_count": null,
   "id": "212cc948-addd-4f4c-b5f9-0245ba312903",
   "metadata": {},
   "outputs": [],
   "source": []
  },
  {
   "cell_type": "code",
   "execution_count": null,
   "id": "113f1cf5-c870-4363-a3f8-75609c28295a",
   "metadata": {},
   "outputs": [],
   "source": []
  }
 ],
 "metadata": {
  "kernelspec": {
   "display_name": "Python 3 (ipykernel)",
   "language": "python",
   "name": "python3"
  },
  "language_info": {
   "codemirror_mode": {
    "name": "ipython",
    "version": 3
   },
   "file_extension": ".py",
   "mimetype": "text/x-python",
   "name": "python",
   "nbconvert_exporter": "python",
   "pygments_lexer": "ipython3",
   "version": "3.11.2"
  }
 },
 "nbformat": 4,
 "nbformat_minor": 5
}
