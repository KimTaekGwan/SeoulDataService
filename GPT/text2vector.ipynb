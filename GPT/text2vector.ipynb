{
 "cells": [
  {
   "cell_type": "code",
   "execution_count": 7,
   "metadata": {},
   "outputs": [],
   "source": [
    "# pip install faiss-cpu\n",
    "# pip install torch\n",
    "# pip install tensorflow\n",
    "# pip install transformers\n",
    "\n",
    "# !pip install sentence_transformers\n",
    "# !pip install pandas"
   ]
  },
  {
   "cell_type": "code",
   "execution_count": 7,
   "metadata": {},
   "outputs": [],
   "source": [
    "import numpy as np\n",
    "import os\n",
    "import pandas as pd\n",
    "import urllib.request\n",
    "import faiss\n",
    "import time\n",
    "from sentence_transformers import SentenceTransformer"
   ]
  },
  {
   "cell_type": "code",
   "execution_count": 8,
   "metadata": {},
   "outputs": [],
   "source": [
    "df = pd.read_csv(\"../Crawling/서울시 공공데이터 최종.csv\")\n",
    "# df.head().T\n",
    "\n",
    "service_name = df['서비스명'].to_list()[:100]\n",
    "service_dscrp = df['서비스설명'].to_list()[:100]"
   ]
  },
  {
   "cell_type": "code",
   "execution_count": 24,
   "metadata": {},
   "outputs": [
    {
     "name": "stdout",
     "output_type": "stream",
     "text": [
      "총 샘플의 개수 : 100\n",
      "총 샘플의 개수 : 100\n"
     ]
    }
   ],
   "source": [
    "print('총 샘플의 개수 :', len(service_name))\n",
    "print('총 샘플의 개수 :', len(service_dscrp))"
   ]
  },
  {
   "cell_type": "code",
   "execution_count": 25,
   "metadata": {},
   "outputs": [
    {
     "name": "stdout",
     "output_type": "stream",
     "text": [
      "임베딩 된 벡터 수 : 100\n"
     ]
    }
   ],
   "source": [
    "# 임베딩\n",
    "model = SentenceTransformer('distilbert-base-nli-mean-tokens')\n",
    "encoded_data = model.encode(service_name)\n",
    "print('임베딩 된 벡터 수 :', len(encoded_data))"
   ]
  },
  {
   "cell_type": "code",
   "execution_count": 26,
   "metadata": {},
   "outputs": [],
   "source": [
    "# 인덱스 정의 및 데이터 추가\n",
    "index = faiss.IndexIDMap(faiss.IndexFlatIP(768))\n",
    "index.add_with_ids(encoded_data, np.array(range(0, len(service_name))))\n",
    "\n",
    "faiss.write_index(index, 'abc_news')"
   ]
  },
  {
   "cell_type": "code",
   "execution_count": 27,
   "metadata": {},
   "outputs": [],
   "source": [
    "def search(query):\n",
    "    t = time.time()\n",
    "    query_vector = model.encode([query])\n",
    "    k = 5\n",
    "    top_k = index.search(query_vector, k)\n",
    "    print('total time: {}'.format(time.time() - t))\n",
    "    return [service_name[_id] for _id in top_k[1].tolist()[0]]"
   ]
  },
  {
   "cell_type": "code",
   "execution_count": 28,
   "metadata": {},
   "outputs": [],
   "source": [
    "query = str(input())\n",
    "results = search(query)\n",
    "\n",
    "print('results :')\n",
    "for result in results:\n",
    "    print('\\t', result)"
   ]
  },
  {
   "cell_type": "code",
   "execution_count": null,
   "metadata": {},
   "outputs": [],
   "source": []
  },
  {
   "cell_type": "code",
   "execution_count": null,
   "metadata": {},
   "outputs": [],
   "source": []
  },
  {
   "cell_type": "code",
   "execution_count": null,
   "metadata": {},
   "outputs": [],
   "source": []
  },
  {
   "cell_type": "code",
   "execution_count": 2,
   "metadata": {},
   "outputs": [
    {
     "name": "stderr",
     "output_type": "stream",
     "text": [
      "/Users/ktg/miniforge3/envs/fastapi/lib/python3.9/site-packages/tqdm/auto.py:21: TqdmWarning: IProgress not found. Please update jupyter and ipywidgets. See https://ipywidgets.readthedocs.io/en/stable/user_install.html\n",
      "  from .autonotebook import tqdm as notebook_tqdm\n"
     ]
    }
   ],
   "source": [
    "import torch\n",
    "from transformers import PreTrainedTokenizerFast\n",
    "from transformers import BartForConditionalGeneration\n",
    "import tensorflow as tf"
   ]
  },
  {
   "cell_type": "code",
   "execution_count": 2,
   "metadata": {},
   "outputs": [
    {
     "name": "stderr",
     "output_type": "stream",
     "text": [
      "You passed along `num_labels=3` with an incompatible id to label map: {'0': 'NEGATIVE', '1': 'POSITIVE'}. The number of labels wil be overwritten to 2.\n",
      "The tokenizer class you load from this checkpoint is not the same type as the class this function is called from. It may result in unexpected tokenization. \n",
      "The tokenizer class you load from this checkpoint is 'BartTokenizer'. \n",
      "The class this function is called from is 'PreTrainedTokenizerFast'.\n",
      "You passed along `num_labels=3` with an incompatible id to label map: {'0': 'NEGATIVE', '1': 'POSITIVE'}. The number of labels wil be overwritten to 2.\n"
     ]
    }
   ],
   "source": [
    "tokenizer = PreTrainedTokenizerFast.from_pretrained('klue/bert-base')\n",
    "model = BartForConditionalGeneration.from_pretrained('klue/bert-base')"
   ]
  },
  {
   "cell_type": "code",
   "execution_count": 3,
   "metadata": {},
   "outputs": [],
   "source": [
    "text = 'You passed along `num_labels=3` with an incompatible id to label map'"
   ]
  },
  {
   "cell_type": "code",
   "execution_count": 4,
   "metadata": {},
   "outputs": [],
   "source": [
    "raw_input_ids = tokenizer.encode(text)"
   ]
  },
  {
   "cell_type": "code",
   "execution_count": 3,
   "metadata": {},
   "outputs": [],
   "source": [
    "# raw_input_ids"
   ]
  },
  {
   "cell_type": "code",
   "execution_count": 17,
   "metadata": {},
   "outputs": [],
   "source": [
    "from transformers import AutoTokenizer, AutoModel\n",
    "import faiss\n",
    "import numpy as np\n",
    "import torch\n",
    "\n",
    "class PseudoTextSearchSystem:\n",
    "    def __init__(self):\n",
    "        # self.tokenizer = AutoTokenizer.from_pretrained(\"kykim/bert-kor-base\")\n",
    "        # self.model = AutoModel.from_pretrained(\"kykim/bert-kor-base\")\n",
    "        self.tokenizer = AutoTokenizer.from_pretrained(\"klue/bert-base\")\n",
    "        self.model = AutoModel.from_pretrained(\"klue/bert-base\")\n",
    "        self.index = None\n",
    "        self.text_db = []\n",
    "        \n",
    "    def add_text_to_db(self, text):\n",
    "        self.text_db.append(text)\n",
    "        \n",
    "    def build_index(self):\n",
    "        embeddings = self._get_embeddings(self.text_db)\n",
    "        self.index = faiss.IndexFlatL2(embeddings.shape[1])\n",
    "        self.index.add(embeddings)\n",
    "        \n",
    "    def search_text(self, query, k=5):\n",
    "        if self.index is None:\n",
    "            raise ValueError(\"Index is not built yet. Call build_index() first.\")\n",
    "        \n",
    "        query_embedding = self._get_embeddings([query])[0]\n",
    "        distances, indices = self.index.search(np.array([query_embedding]), k)\n",
    "        \n",
    "        print('distances')\n",
    "        print(distances)\n",
    "        print('indices')\n",
    "        print(indices)\n",
    "        \n",
    "        results = [(self.text_db[idx], score) for idx, score in zip(indices[0], distances[0])]\n",
    "        return results\n",
    "    \n",
    "    def _get_embeddings(self, texts):\n",
    "        encoded_input = self.tokenizer(texts, padding=True, truncation=True, return_tensors='pt')\n",
    "        with torch.no_grad():\n",
    "            model_output = self.model(**encoded_input)\n",
    "            embeddings = model_output.last_hidden_state[:, 0, :].numpy()\n",
    "        return embeddings"
   ]
  },
  {
   "cell_type": "code",
   "execution_count": 18,
   "metadata": {},
   "outputs": [
    {
     "name": "stderr",
     "output_type": "stream",
     "text": [
      "Some weights of the model checkpoint at klue/bert-base were not used when initializing BertModel: ['cls.seq_relationship.weight', 'cls.predictions.decoder.weight', 'cls.predictions.decoder.bias', 'cls.seq_relationship.bias', 'cls.predictions.transform.dense.bias', 'cls.predictions.transform.LayerNorm.bias', 'cls.predictions.transform.dense.weight', 'cls.predictions.transform.LayerNorm.weight', 'cls.predictions.bias']\n",
      "- This IS expected if you are initializing BertModel from the checkpoint of a model trained on another task or with another architecture (e.g. initializing a BertForSequenceClassification model from a BertForPreTraining model).\n",
      "- This IS NOT expected if you are initializing BertModel from the checkpoint of a model that you expect to be exactly identical (initializing a BertForSequenceClassification model from a BertForSequenceClassification model).\n"
     ]
    },
    {
     "name": "stdout",
     "output_type": "stream",
     "text": [
      "distances\n",
      "[[501.05188 505.79608 520.9692  524.95544 532.3541 ]]\n",
      "indices\n",
      "[[97 23 34 41 93]]\n",
      "[('서울시 서대문구 게임물제작업 인허가 정보', 501.05188), ('서울시 동대문구 체력단련장업 인허가 정보', 505.79608), ('서울시 서대문구 전체 행정처분내역 현황 정보', 520.9692), ('서울시 동대문구 노동조합 현황', 524.95544), ('서울시 용산구 어린이집 정보 (표준 데이터)', 532.3541)]\n"
     ]
    }
   ],
   "source": [
    "# Create the search system\n",
    "search_system = PseudoTextSearchSystem()\n",
    "\n",
    "# Add texts to the database\n",
    "# search_system.add_text_to_db(\"안녕하세요, 반갑습니다.\")\n",
    "# search_system.add_text_to_db(\"오늘 날씨가 좋네요.\")\n",
    "# search_system.add_text_to_db(\"저는 파이썬 개발자입니다.\")\n",
    "\n",
    "# for txt in service_name:\n",
    "#     search_system.add_text_to_db(txt)\n",
    "\n",
    "# Build the search index\n",
    "search_system.build_index()\n",
    "\n",
    "# Search for similar texts\n",
    "results = search_system.search_text(\"서대문구\")\n",
    "print(results)"
   ]
  },
  {
   "cell_type": "code",
   "execution_count": null,
   "metadata": {},
   "outputs": [],
   "source": []
  },
  {
   "cell_type": "code",
   "execution_count": null,
   "metadata": {},
   "outputs": [],
   "source": []
  },
  {
   "cell_type": "code",
   "execution_count": null,
   "metadata": {},
   "outputs": [],
   "source": []
  },
  {
   "cell_type": "code",
   "execution_count": 34,
   "metadata": {},
   "outputs": [
    {
     "data": {
      "text/plain": [
       "<faiss.swigfaiss.IndexFlatL2; proxy of <Swig Object of type 'faiss::IndexFlatL2 *' at 0x17c0d0570> >"
      ]
     },
     "execution_count": 34,
     "metadata": {},
     "output_type": "execute_result"
    }
   ],
   "source": [
    "faiss.write_index()"
   ]
  },
  {
   "cell_type": "code",
   "execution_count": null,
   "metadata": {},
   "outputs": [],
   "source": [
    "filename = 'embedding_vectors.pkl'\n",
    "with open(filename, 'wb') as f:\n",
    "    embedding_vectors = pickle.load(f)"
   ]
  }
 ],
 "metadata": {
  "kernelspec": {
   "display_name": "simila",
   "language": "python",
   "name": "python3"
  },
  "language_info": {
   "codemirror_mode": {
    "name": "ipython",
    "version": 3
   },
   "file_extension": ".py",
   "mimetype": "text/x-python",
   "name": "python",
   "nbconvert_exporter": "python",
   "pygments_lexer": "ipython3",
   "version": "3.9.16"
  },
  "orig_nbformat": 4
 },
 "nbformat": 4,
 "nbformat_minor": 2
}
