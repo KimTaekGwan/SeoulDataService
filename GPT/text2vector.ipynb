{
 "cells": [
  {
   "cell_type": "code",
   "execution_count": null,
   "metadata": {},
   "outputs": [],
   "source": [
    "# pip install faiss-cpu\n",
    "# pip install torch\n",
    "# pip install tensorflow\n",
    "# pip install transformers"
   ]
  },
  {
   "cell_type": "code",
   "execution_count": 1,
   "metadata": {},
   "outputs": [
    {
     "name": "stderr",
     "output_type": "stream",
     "text": [
      "/Users/ktg/miniforge3/envs/fastapi/lib/python3.9/site-packages/tqdm/auto.py:21: TqdmWarning: IProgress not found. Please update jupyter and ipywidgets. See https://ipywidgets.readthedocs.io/en/stable/user_install.html\n",
      "  from .autonotebook import tqdm as notebook_tqdm\n"
     ]
    }
   ],
   "source": [
    "import torch\n",
    "from transformers import PreTrainedTokenizerFast\n",
    "from transformers import BartForConditionalGeneration\n",
    "import tensorflow as tf"
   ]
  },
  {
   "cell_type": "code",
   "execution_count": 2,
   "metadata": {},
   "outputs": [
    {
     "name": "stderr",
     "output_type": "stream",
     "text": [
      "You passed along `num_labels=3` with an incompatible id to label map: {'0': 'NEGATIVE', '1': 'POSITIVE'}. The number of labels wil be overwritten to 2.\n",
      "The tokenizer class you load from this checkpoint is not the same type as the class this function is called from. It may result in unexpected tokenization. \n",
      "The tokenizer class you load from this checkpoint is 'BartTokenizer'. \n",
      "The class this function is called from is 'PreTrainedTokenizerFast'.\n",
      "You passed along `num_labels=3` with an incompatible id to label map: {'0': 'NEGATIVE', '1': 'POSITIVE'}. The number of labels wil be overwritten to 2.\n"
     ]
    }
   ],
   "source": [
    "tokenizer = PreTrainedTokenizerFast.from_pretrained('gogamza/kobart-summarization')\n",
    "model = BartForConditionalGeneration.from_pretrained('gogamza/kobart-summarization')"
   ]
  },
  {
   "cell_type": "code",
   "execution_count": 3,
   "metadata": {},
   "outputs": [],
   "source": [
    "text = 'You passed along `num_labels=3` with an incompatible id to label map'"
   ]
  },
  {
   "cell_type": "code",
   "execution_count": 4,
   "metadata": {},
   "outputs": [],
   "source": [
    "raw_input_ids = tokenizer.encode(text)"
   ]
  },
  {
   "cell_type": "code",
   "execution_count": 5,
   "metadata": {},
   "outputs": [
    {
     "data": {
      "text/plain": [
       "[16879,\n",
       " 17884,\n",
       " 17065,\n",
       " 19542,\n",
       " 17223,\n",
       " 299,\n",
       " 1700,\n",
       " 15585,\n",
       " 24687,\n",
       " 15254,\n",
       " 309,\n",
       " 22549,\n",
       " 294,\n",
       " 17422,\n",
       " 297,\n",
       " 16997,\n",
       " 314,\n",
       " 260,\n",
       " 250,\n",
       " 295,\n",
       " 20676,\n",
       " 304,\n",
       " 16160,\n",
       " 1700,\n",
       " 15195,\n",
       " 22692,\n",
       " 27764,\n",
       " 311,\n",
       " 296,\n",
       " 15555,\n",
       " 297,\n",
       " 16203,\n",
       " 1700,\n",
       " 18509,\n",
       " 27141,\n",
       " 1700,\n",
       " 17422,\n",
       " 297,\n",
       " 16997,\n",
       " 19281,\n",
       " 20924]"
      ]
     },
     "execution_count": 5,
     "metadata": {},
     "output_type": "execute_result"
    }
   ],
   "source": [
    "raw_input_ids"
   ]
  },
  {
   "cell_type": "code",
   "execution_count": 3,
   "metadata": {},
   "outputs": [],
   "source": [
    "from transformers import AutoTokenizer, AutoModel\n",
    "import faiss\n",
    "import numpy as np\n",
    "import torch\n",
    "\n",
    "class PseudoTextSearchSystem:\n",
    "    def __init__(self):\n",
    "        self.tokenizer = AutoTokenizer.from_pretrained(\"kykim/bert-kor-base\")\n",
    "        self.model = AutoModel.from_pretrained(\"kykim/bert-kor-base\")\n",
    "        self.index = None\n",
    "        self.text_db = []\n",
    "        \n",
    "    def add_text_to_db(self, text):\n",
    "        self.text_db.append(text)\n",
    "        \n",
    "    def build_index(self):\n",
    "        embeddings = self._get_embeddings(self.text_db)\n",
    "        self.index = faiss.IndexFlatL2(embeddings.shape[1])\n",
    "        self.index.add(embeddings)\n",
    "        \n",
    "    def search_text(self, query, k=5):\n",
    "        if self.index is None:\n",
    "            raise ValueError(\"Index is not built yet. Call build_index() first.\")\n",
    "        \n",
    "        query_embedding = self._get_embeddings([query])[0]\n",
    "        distances, indices = self.index.search(np.array([query_embedding]), k)\n",
    "        results = [(self.text_db[idx], score) for idx, score in zip(indices[0], distances[0])]\n",
    "        return results\n",
    "    \n",
    "    def _get_embeddings(self, texts):\n",
    "        encoded_input = self.tokenizer(texts, padding=True, truncation=True, return_tensors='pt')\n",
    "        with torch.no_grad():\n",
    "            model_output = self.model(**encoded_input)\n",
    "            embeddings = model_output.last_hidden_state[:, 0, :].numpy()\n",
    "        return embeddings"
   ]
  },
  {
   "cell_type": "code",
   "execution_count": 4,
   "metadata": {},
   "outputs": [
    {
     "name": "stderr",
     "output_type": "stream",
     "text": [
      "Some weights of the model checkpoint at kykim/bert-kor-base were not used when initializing BertModel: ['cls.seq_relationship.weight', 'cls.predictions.transform.dense.weight', 'cls.predictions.transform.LayerNorm.weight', 'cls.predictions.decoder.weight', 'cls.predictions.bias', 'cls.predictions.transform.dense.bias', 'cls.seq_relationship.bias', 'cls.predictions.transform.LayerNorm.bias', 'cls.predictions.decoder.bias']\n",
      "- This IS expected if you are initializing BertModel from the checkpoint of a model trained on another task or with another architecture (e.g. initializing a BertForSequenceClassification model from a BertForPreTraining model).\n",
      "- This IS NOT expected if you are initializing BertModel from the checkpoint of a model that you expect to be exactly identical (initializing a BertForSequenceClassification model from a BertForSequenceClassification model).\n"
     ]
    },
    {
     "name": "stdout",
     "output_type": "stream",
     "text": [
      "[('안녕하세요, 반갑습니다.', 296.9377), ('저는 파이썬 개발자입니다.', 545.05164), ('오늘 날씨가 좋네요.', 586.89777), ('저는 파이썬 개발자입니다.', 3.4028235e+38), ('저는 파이썬 개발자입니다.', 3.4028235e+38)]\n"
     ]
    }
   ],
   "source": [
    "# Create the search system\n",
    "search_system = PseudoTextSearchSystem()\n",
    "\n",
    "# Add texts to the database\n",
    "search_system.add_text_to_db(\"안녕하세요, 반갑습니다.\")\n",
    "search_system.add_text_to_db(\"오늘 날씨가 좋네요.\")\n",
    "search_system.add_text_to_db(\"저는 파이썬 개발자입니다.\")\n",
    "\n",
    "# Build the search index\n",
    "search_system.build_index()\n",
    "\n",
    "# Search for similar texts\n",
    "results = search_system.search_text(\"안녕하세요, 좋은 하루 되세요.\")\n",
    "print(results)"
   ]
  },
  {
   "cell_type": "code",
   "execution_count": null,
   "metadata": {},
   "outputs": [],
   "source": []
  }
 ],
 "metadata": {
  "kernelspec": {
   "display_name": "simila",
   "language": "python",
   "name": "python3"
  },
  "language_info": {
   "codemirror_mode": {
    "name": "ipython",
    "version": 3
   },
   "file_extension": ".py",
   "mimetype": "text/x-python",
   "name": "python",
   "nbconvert_exporter": "python",
   "pygments_lexer": "ipython3",
   "version": "3.9.16"
  },
  "orig_nbformat": 4
 },
 "nbformat": 4,
 "nbformat_minor": 2
}
